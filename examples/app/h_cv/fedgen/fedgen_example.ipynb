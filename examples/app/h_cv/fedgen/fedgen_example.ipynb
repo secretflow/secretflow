{
 "cells": [
  {
   "cell_type": "markdown",
   "id": "7bc8dacdc0d6ebb4",
   "metadata": {},
   "source": [
    "# FenGen个性化联邦学习例子"
   ]
  },
  {
   "cell_type": "code",
   "execution_count": 1,
   "id": "938d2c5d",
   "metadata": {
    "ExecuteTime": {
     "end_time": "2024-08-26T11:38:38.466144Z",
     "start_time": "2024-08-26T11:38:38.457278Z"
    }
   },
   "outputs": [],
   "source": [
    "%load_ext autoreload\n",
    "%autoreload 2"
   ]
  },
  {
   "cell_type": "markdown",
   "id": "a700aec9",
   "metadata": {},
   "source": [
    "## 在secretflow环境创造3个实体[Alice，Bob，Charlie]，其中 Alice, Bob和Charlie 是三个PYU，Alice和Bob角色是client，Charlie角色是server。"
   ]
  },
  {
   "cell_type": "code",
   "execution_count": 2,
   "id": "1c6ab3f20b850118",
   "metadata": {},
   "outputs": [
    {
     "name": "stderr",
     "output_type": "stream",
     "text": [
      "/home/yang/anaconda3/envs/mysf/lib/python3.10/site-packages/tqdm/auto.py:21: TqdmWarning: IProgress not found. Please update jupyter and ipywidgets. See https://ipywidgets.readthedocs.io/en/stable/user_install.html\n",
      "  from .autonotebook import tqdm as notebook_tqdm\n",
      "2024-10-23 10:03:08,660\tINFO util.py:154 -- Missing packages: ['ipywidgets']. Run `pip install -U ipywidgets`, then restart the notebook server for rich notebook output.\n"
     ]
    },
    {
     "name": "stdout",
     "output_type": "stream",
     "text": [
      "The version of SecretFlow: 1.9.0.dev20240726\n"
     ]
    },
    {
     "name": "stderr",
     "output_type": "stream",
     "text": [
      "/home/yang/anaconda3/envs/mysf/lib/python3.10/subprocess.py:1796: RuntimeWarning: os.fork() was called. os.fork() is incompatible with multithreaded code, and JAX is multithreaded, so this will likely lead to a deadlock.\n",
      "  self.pid = _posixsubprocess.fork_exec(\n",
      "2024-10-23 10:03:11,837\tINFO worker.py:1724 -- Started a local Ray instance.\n"
     ]
    }
   ],
   "source": [
    "import secretflow as sf\n",
    "\n",
    "# Check the version of your SecretFlow\n",
    "print('The version of SecretFlow: {}'.format(sf.__version__))\n",
    "\n",
    "# In case you have a running secretflow runtime already.\n",
    "sf.shutdown()\n",
    "\n",
    "sf.init(['alice', 'bob', 'charlie'], address='local')\n",
    "alice, bob, charlie = sf.PYU('alice'), sf.PYU('bob'), sf.PYU('charlie')"
   ]
  },
  {
   "cell_type": "code",
   "execution_count": 3,
   "id": "461ab9e4",
   "metadata": {},
   "outputs": [],
   "source": [
    "spu = sf.SPU(sf.utils.testing.cluster_def(['alice', 'bob']))"
   ]
  },
  {
   "cell_type": "markdown",
   "id": "40435977-c2c6-464c-bdcb-da10063fbed8",
   "metadata": {},
   "source": [
    "## 导入相关依赖"
   ]
  },
  {
   "cell_type": "code",
   "execution_count": null,
   "id": "403dddd7",
   "metadata": {},
   "outputs": [
    {
     "name": "stderr",
     "output_type": "stream",
     "text": [
      "2024-10-23 10:03:16.561553: W tensorflow/compiler/tf2tensorrt/utils/py_utils.cc:38] TF-TRT Warning: Could not find TensorRT\n"
     ]
    }
   ],
   "source": [
    "from secretflow_fl.ml.nn.core.torch import (\n",
    "    metric_wrapper,\n",
    "    optim_wrapper,\n",
    "    BaseModule,\n",
    "    TorchModel,\n",
    ")\n",
    "from secretflow_fl.ml.nn import FLModel\n",
    "from torchmetrics import Accuracy, Precision\n",
    "from secretflow_fl.security.aggregation import SecureAggregator\n",
    "from secretflow_fl.utils.simulation.datasets_fl import load_mnist\n",
    "from torch import nn, optim\n",
    "from torch.nn import functional as F\n",
    "import torch"
   ]
  },
  {
   "cell_type": "markdown",
   "id": "f7a71564",
   "metadata": {},
   "source": [
    "## 数据划分，这里模拟数据不平衡2:8分"
   ]
  },
  {
   "cell_type": "code",
   "execution_count": 5,
   "id": "adb0271c",
   "metadata": {},
   "outputs": [],
   "source": [
    "(train_data, train_label), (test_data, test_label) = load_mnist(\n",
    "    parts={alice: 0.2, bob: 0.8},\n",
    "    normalized_x=True,\n",
    "    categorical_y=True,\n",
    "    is_torch=True,\n",
    ")"
   ]
  },
  {
   "cell_type": "markdown",
   "id": "9b00201f",
   "metadata": {},
   "source": [
    "## 定义一个神经网络模型，输出是logit"
   ]
  },
  {
   "cell_type": "code",
   "execution_count": 6,
   "id": "f7169dc6",
   "metadata": {},
   "outputs": [],
   "source": [
    "class ConvNet(BaseModule):\n",
    "    \"\"\"Small ConvNet for MNIST.\"\"\"\n",
    "\n",
    "    def __init__(self, kl_div_loss, num_classes):\n",
    "        super(ConvNet, self).__init__()\n",
    "        self.conv1 = nn.Conv2d(1, 3, kernel_size=3)\n",
    "        self.fc_in_dim = 192\n",
    "        self.fc = nn.Linear(self.fc_in_dim, 10)\n",
    "        self.kl_div_loss = kl_div_loss\n",
    "        self.num_classes = num_classes\n",
    "\n",
    "    def forward(self, x, start_layer_idx=0):\n",
    "        if start_layer_idx == -1:\n",
    "            x = self.fc(x)\n",
    "            return x\n",
    "        x = F.relu(F.max_pool2d(self.conv1(x), 3))\n",
    "        x = x.view(-1, self.fc_in_dim)\n",
    "        x = self.fc(x)\n",
    "        return x"
   ]
  },
  {
   "cell_type": "markdown",
   "id": "ba14607e",
   "metadata": {},
   "source": [
    "定义神经网络模型的损失函数和优化器"
   ]
  },
  {
   "cell_type": "code",
   "execution_count": 7,
   "id": "18884242",
   "metadata": {},
   "outputs": [],
   "source": [
    "loss_fn = nn.CrossEntropyLoss\n",
    "optim_fn = optim_wrapper(optim.Adam, lr=1e-2)"
   ]
  },
  {
   "cell_type": "markdown",
   "id": "0b21603b",
   "metadata": {},
   "source": [
    "## 准备FedGen相关工作，生成器模型等"
   ]
  },
  {
   "cell_type": "markdown",
   "id": "a0da3e36",
   "metadata": {},
   "source": [
    "DiversityLoss是一个自定义的损失函数类"
   ]
  },
  {
   "cell_type": "code",
   "execution_count": 8,
   "id": "e6217205",
   "metadata": {},
   "outputs": [],
   "source": [
    "class DiversityLoss(nn.Module):\n",
    "    \"\"\"\n",
    "    Diversity loss for improving the performance.\n",
    "    \"\"\"\n",
    "\n",
    "    def __init__(self, metric):\n",
    "        \"\"\"\n",
    "        Class initializer.\n",
    "        \"\"\"\n",
    "        super().__init__()\n",
    "        self.metric = metric\n",
    "        self.cosine = nn.CosineSimilarity(dim=2)\n",
    "\n",
    "    def compute_distance(self, tensor1, tensor2, metric):\n",
    "        \"\"\"\n",
    "        Compute the distance between two tensors.\n",
    "        \"\"\"\n",
    "        if metric == 'l1':\n",
    "            return torch.abs(tensor1 - tensor2).mean(dim=(2,))\n",
    "        elif metric == 'l2':\n",
    "            return torch.pow(tensor1 - tensor2, 2).mean(dim=(2,))\n",
    "        elif metric == 'cosine':\n",
    "            return 1 - self.cosine(tensor1, tensor2)\n",
    "        else:\n",
    "            raise ValueError(metric)\n",
    "\n",
    "    def pairwise_distance(self, tensor, how):\n",
    "        \"\"\"\n",
    "        Compute the pairwise distances between a Tensor's rows.\n",
    "        \"\"\"\n",
    "        n_data = tensor.size(0)\n",
    "        tensor1 = tensor.expand((n_data, n_data, tensor.size(1)))\n",
    "        tensor2 = tensor.unsqueeze(dim=1)\n",
    "        return self.compute_distance(tensor1, tensor2, how)\n",
    "\n",
    "    def forward(self, noises, layer):\n",
    "        \"\"\"\n",
    "        Forward propagation.\n",
    "        \"\"\"\n",
    "        if len(layer.shape) > 2:\n",
    "            layer = layer.view((layer.size(0), -1))\n",
    "        layer_dist = self.pairwise_distance(layer, how=self.metric)\n",
    "        noise_dist = self.pairwise_distance(noises, how='l2')\n",
    "        return torch.exp(torch.mean(-noise_dist * layer_dist))"
   ]
  },
  {
   "cell_type": "markdown",
   "id": "36ed20aa",
   "metadata": {},
   "source": [
    "FedGen需要有generator模型,并一些训练参数相关设置，优化器等"
   ]
  },
  {
   "cell_type": "code",
   "execution_count": null,
   "id": "abeef2a2",
   "metadata": {},
   "outputs": [],
   "source": [
    "from secretflow_fl.ml.nn.fl.backend.torch.strategy.fed_gen import (\n",
    "    FedGenGeneratorModel,\n",
    "    FedGenActor,\n",
    ")\n",
    "\n",
    "kl_div_loss = nn.KLDivLoss(reduction=\"batchmean\")\n",
    "diversity_loss = DiversityLoss(metric='l1')\n",
    "cross_entropy_loss = nn.CrossEntropyLoss()\n",
    "num_classes = 10\n",
    "generator = FedGenGeneratorModel(\n",
    "    hidden_dimension=256,\n",
    "    latent_dimension=192,\n",
    "    noise_dim=64,\n",
    "    num_classes=num_classes,\n",
    "    loss_fn=loss_fn,\n",
    "    optim_fn=optim_fn,\n",
    "    diversity_loss=diversity_loss,\n",
    ")"
   ]
  },
  {
   "cell_type": "markdown",
   "id": "436038d0",
   "metadata": {},
   "source": [
    "## 进行联邦学习"
   ]
  },
  {
   "cell_type": "code",
   "execution_count": null,
   "id": "e1d2255b",
   "metadata": {},
   "outputs": [
    {
     "name": "stderr",
     "output_type": "stream",
     "text": [
      "INFO:root:Create proxy actor <class 'secretflow.device.proxy.ActorFedGenActor'> with party charlie.\n",
      "INFO:root:Create proxy actor <class 'secretflow.device.proxy.Actor_Masker'> with party alice.\n",
      "INFO:root:Create proxy actor <class 'secretflow.device.proxy.Actor_Masker'> with party bob.\n",
      "INFO:root:Create proxy actor <class 'abc.ActorPYUFedGen'> with party alice.\n",
      "INFO:root:Create proxy actor <class 'abc.ActorPYUFedGen'> with party bob.\n",
      "INFO:root:FL Train Params: {'x': FedNdarray(partitions={PYURuntime(alice): <secretflow.device.device.pyu.PYUObject object at 0x7fba63bc4130>, PYURuntime(bob): <secretflow.device.device.pyu.PYUObject object at 0x7fba63bc4b50>}, partition_way=<PartitionWay.HORIZONTAL: 'horizontal'>), 'y': FedNdarray(partitions={PYURuntime(alice): <secretflow.device.device.pyu.PYUObject object at 0x7fba63bc54b0>, PYURuntime(bob): <secretflow.device.device.pyu.PYUObject object at 0x7fba63bc4070>}, partition_way=<PartitionWay.HORIZONTAL: 'horizontal'>), 'batch_size': 32, 'batch_sampling_rate': None, 'epochs': 20, 'verbose': 1, 'callbacks': None, 'validation_data': (FedNdarray(partitions={PYURuntime(alice): <secretflow.device.device.pyu.PYUObject object at 0x7fba63bc5420>, PYURuntime(bob): <secretflow.device.device.pyu.PYUObject object at 0x7fba63bc5630>}, partition_way=<PartitionWay.HORIZONTAL: 'horizontal'>), FedNdarray(partitions={PYURuntime(alice): <secretflow.device.device.pyu.PYUObject object at 0x7fba63bc5780>, PYURuntime(bob): <secretflow.device.device.pyu.PYUObject object at 0x7fba63bc59f0>}, partition_way=<PartitionWay.HORIZONTAL: 'horizontal'>)), 'shuffle': False, 'class_weight': None, 'sample_weight': None, 'validation_freq': 1, 'aggregate_freq': 1, 'label_decoder': None, 'max_batch_size': 20000, 'prefetch_buffer_size': None, 'sampler_method': 'batch', 'random_seed': 50467, 'dp_spent_step_freq': None, 'audit_log_dir': None, 'dataset_builder': None, 'wait_steps': 100, 'self': <secretflow.ml.nn.fl.fl_model.FLModel object at 0x7fba63a52770>}\n",
      "\u001b[36m(ActorFedGenActor pid=596183)\u001b[0m 2024-10-23 10:03:34.051121: W tensorflow/compiler/tf2tensorrt/utils/py_utils.cc:38] TF-TRT Warning: Could not find TensorRT\n",
      "Train Processing: :   0%|                                                                                                                                   | 0/375 [00:00<?, ?it/s]"
     ]
    },
    {
     "name": "stdout",
     "output_type": "stream",
     "text": [
      "Epoch 1/20\n"
     ]
    },
    {
     "name": "stderr",
     "output_type": "stream",
     "text": [
      "\u001b[36m(ActorFedGenActor pid=596183)\u001b[0m /home/yang/anaconda3/envs/mysf/lib/python3.10/site-packages/torch/nn/functional.py:2943: UserWarning: reduction: 'mean' divides the total loss by both the batch size and the support size.'batchmean' divides only by the batch size, and aligns with the KL div math definition.'mean' will be changed to behave the same as 'batchmean' in the next major release.\n",
      "\u001b[36m(ActorFedGenActor pid=596183)\u001b[0m   warnings.warn(\n",
      "\u001b[36m(pid=596362)\u001b[0m 2024-10-23 10:03:34.443714: W tensorflow/compiler/tf2tensorrt/utils/py_utils.cc:38] TF-TRT Warning: Could not find TensorRT\u001b[32m [repeated 2x across cluster] (Ray deduplicates logs by default. Set RAY_DEDUP_LOGS=0 to disable log deduplication, or see https://docs.ray.io/en/master/ray-observability/ray-logging.html#log-deduplication for more options.)\u001b[0m\n",
      "Train Processing: : 100%|████████████████████████████████████████████████████████████████████████████████████████████████████████████████████████▋| 374/375 [01:13<00:00,  4.48it/s]/home/yang/PycharmProjects/secretflow/secretflow/ml/nn/metrics.py:62: UserWarning: Please pay attention to local metrics, global only do naive aggregation.\n",
      "  warnings.warn(\n",
      "2024-10-23 10:04:54.650508: W tensorflow/core/common_runtime/gpu/gpu_device.cc:1956] Cannot dlopen some GPU libraries. Please make sure the missing libraries mentioned above are installed properly if you would like to use GPU. Follow the guide at https://www.tensorflow.org/install/gpu for how to download and setup the required libraries for your platform.\n",
      "Skipping registering GPU devices...\n",
      "Train Processing: : 100%|▉| 374/375 [01:14<00:00,  5.02it/s, {'multiclassaccuracy': 0.7865833, 'multiclassprecision': 0.7865833, 'val_multiclassaccuracy': 0.8935, 'val_multiclasspr\n",
      "Train Processing: :   0%|                                                                                                                                   | 0/375 [00:00<?, ?it/s]"
     ]
    },
    {
     "name": "stdout",
     "output_type": "stream",
     "text": [
      "Epoch 2/20\n",
      "\u001b[36m(ActorPYUFedGen pid=596361)\u001b[0m {'train-loss': 7.240610122680664, 'train_multiclassaccuracy': tensor(0.7905), 'train_multiclassprecision': tensor(0.7905), 'val_eval_multiclassaccuracy': tensor(0.8730), 'val_eval_multiclassprecision': tensor(0.8730)}\n"
     ]
    },
    {
     "name": "stderr",
     "output_type": "stream",
     "text": [
      "Train Processing: : 100%|▉| 374/375 [00:38<00:00,  9.78it/s, {'multiclassaccuracy': 0.91835415, 'multiclassprecision': 0.91835415, 'val_multiclassaccuracy': 0.9181875, 'val_multicl\n",
      "Train Processing: :   0%|▎                                                                                                                          | 1/375 [00:00<00:56,  6.63it/s]"
     ]
    },
    {
     "name": "stdout",
     "output_type": "stream",
     "text": [
      "Epoch 3/20\n",
      "\u001b[36m(ActorPYUFedGen pid=596361)\u001b[0m {'train-loss': 3.871393918991089, 'train_multiclassaccuracy': tensor(0.9191), 'train_multiclassprecision': tensor(0.9191), 'val_eval_multiclassaccuracy': tensor(0.9020), 'val_eval_multiclassprecision': tensor(0.9020)}\u001b[32m [repeated 2x across cluster]\u001b[0m\n"
     ]
    },
    {
     "name": "stderr",
     "output_type": "stream",
     "text": [
      "Train Processing: : 100%|▉| 374/375 [00:37<00:00,  9.90it/s, {'multiclassaccuracy': 0.93016666, 'multiclassprecision': 0.93016666, 'val_multiclassaccuracy': 0.9263125, 'val_multicl\n",
      "Train Processing: :   0%|▎                                                                                                                          | 1/375 [00:00<00:58,  6.39it/s]"
     ]
    },
    {
     "name": "stdout",
     "output_type": "stream",
     "text": [
      "Epoch 4/20\n",
      "\u001b[36m(ActorPYUFedGen pid=596361)\u001b[0m {'train-loss': 3.469554901123047, 'train_multiclassaccuracy': tensor(0.9317), 'train_multiclassprecision': tensor(0.9317), 'val_eval_multiclassaccuracy': tensor(0.9125), 'val_eval_multiclassprecision': tensor(0.9125)}\u001b[32m [repeated 2x across cluster]\u001b[0m\n"
     ]
    },
    {
     "name": "stderr",
     "output_type": "stream",
     "text": [
      "Train Processing: : 100%|▉| 374/375 [00:34<00:00, 10.73it/s, {'multiclassaccuracy': 0.93403125, 'multiclassprecision': 0.93403125, 'val_multiclassaccuracy': 0.928125, 'val_multicla\n",
      "Train Processing: :   0%|▎                                                                                                                          | 1/375 [00:00<01:00,  6.14it/s]"
     ]
    },
    {
     "name": "stdout",
     "output_type": "stream",
     "text": [
      "Epoch 5/20\n",
      "\u001b[36m(ActorPYUFedGen pid=596361)\u001b[0m {'train-loss': 3.194899559020996, 'train_multiclassaccuracy': tensor(0.9355), 'train_multiclassprecision': tensor(0.9355), 'val_eval_multiclassaccuracy': tensor(0.9140), 'val_eval_multiclassprecision': tensor(0.9140)}\u001b[32m [repeated 2x across cluster]\u001b[0m\n"
     ]
    },
    {
     "name": "stderr",
     "output_type": "stream",
     "text": [
      "Train Processing: : 100%|▉| 374/375 [00:34<00:00, 11.00it/s, {'multiclassaccuracy': 0.9375833, 'multiclassprecision': 0.9375833, 'val_multiclassaccuracy': 0.9320625, 'val_multiclas\n",
      "Train Processing: :   0%|▎                                                                                                                          | 1/375 [00:00<00:59,  6.29it/s]"
     ]
    },
    {
     "name": "stdout",
     "output_type": "stream",
     "text": [
      "Epoch 6/20\n",
      "\u001b[36m(ActorPYUFedGen pid=596361)\u001b[0m {'train-loss': 3.116774559020996, 'train_multiclassaccuracy': tensor(0.9392), 'train_multiclassprecision': tensor(0.9392), 'val_eval_multiclassaccuracy': tensor(0.9205), 'val_eval_multiclassprecision': tensor(0.9205)}\u001b[32m [repeated 2x across cluster]\u001b[0m\n"
     ]
    },
    {
     "name": "stderr",
     "output_type": "stream",
     "text": [
      "Train Processing: : 100%|▉| 374/375 [00:32<00:00, 11.39it/s, {'multiclassaccuracy': 0.93965626, 'multiclassprecision': 0.93965626, 'val_multiclassaccuracy': 0.9373125, 'val_multicl\n",
      "Train Processing: :   0%|▎                                                                                                                          | 1/375 [00:00<00:58,  6.41it/s]"
     ]
    },
    {
     "name": "stdout",
     "output_type": "stream",
     "text": [
      "Epoch 7/20\n",
      "\u001b[36m(ActorPYUFedGen pid=596361)\u001b[0m {'train-loss': 2.8242197036743164, 'train_multiclassaccuracy': tensor(0.9411), 'train_multiclassprecision': tensor(0.9411), 'val_eval_multiclassaccuracy': tensor(0.9265), 'val_eval_multiclassprecision': tensor(0.9265)}\u001b[32m [repeated 2x across cluster]\u001b[0m\n"
     ]
    },
    {
     "name": "stderr",
     "output_type": "stream",
     "text": [
      "Train Processing: : 100%|▉| 374/375 [00:33<00:00, 11.06it/s, {'multiclassaccuracy': 0.9405625, 'multiclassprecision': 0.9405625, 'val_multiclassaccuracy': 0.938625, 'val_multiclass\n",
      "Train Processing: :   0%|▎                                                                                                                          | 1/375 [00:00<01:12,  5.17it/s]"
     ]
    },
    {
     "name": "stdout",
     "output_type": "stream",
     "text": [
      "Epoch 8/20\n",
      "\u001b[36m(ActorPYUFedGen pid=596361)\u001b[0m {'train-loss': 2.6636083126068115, 'train_multiclassaccuracy': tensor(0.9416), 'train_multiclassprecision': tensor(0.9416), 'val_eval_multiclassaccuracy': tensor(0.9280), 'val_eval_multiclassprecision': tensor(0.9280)}\u001b[32m [repeated 2x across cluster]\u001b[0m\n"
     ]
    },
    {
     "name": "stderr",
     "output_type": "stream",
     "text": [
      "Train Processing: : 100%|▉| 374/375 [00:34<00:00, 10.95it/s, {'multiclassaccuracy': 0.9417083, 'multiclassprecision': 0.9417083, 'val_multiclassaccuracy': 0.9391875, 'val_multiclas\n",
      "Train Processing: :   0%|                                                                                                                                   | 0/375 [00:00<?, ?it/s]"
     ]
    },
    {
     "name": "stdout",
     "output_type": "stream",
     "text": [
      "Epoch 9/20\n",
      "\u001b[36m(ActorPYUFedGen pid=596361)\u001b[0m {'train-loss': 2.566133499145508, 'train_multiclassaccuracy': tensor(0.9428), 'train_multiclassprecision': tensor(0.9428), 'val_eval_multiclassaccuracy': tensor(0.9280), 'val_eval_multiclassprecision': tensor(0.9280)}\u001b[32m [repeated 2x across cluster]\u001b[0m\n"
     ]
    },
    {
     "name": "stderr",
     "output_type": "stream",
     "text": [
      "Train Processing: : 100%|▉| 374/375 [00:34<00:00, 10.75it/s, {'multiclassaccuracy': 0.9431771, 'multiclassprecision': 0.9431771, 'val_multiclassaccuracy': 0.9399375, 'val_multiclas\n",
      "Train Processing: :   0%|▎                                                                                                                          | 1/375 [00:00<01:04,  5.82it/s]"
     ]
    },
    {
     "name": "stdout",
     "output_type": "stream",
     "text": [
      "Epoch 10/20\n",
      "\u001b[36m(ActorPYUFedGen pid=596361)\u001b[0m {'train-loss': 2.377262592315674, 'train_multiclassaccuracy': tensor(0.9445), 'train_multiclassprecision': tensor(0.9445), 'val_eval_multiclassaccuracy': tensor(0.9290), 'val_eval_multiclassprecision': tensor(0.9290)}\u001b[32m [repeated 2x across cluster]\u001b[0m\n"
     ]
    },
    {
     "name": "stderr",
     "output_type": "stream",
     "text": [
      "Train Processing: : 100%|▉| 374/375 [00:37<00:00,  9.99it/s, {'multiclassaccuracy': 0.9437916, 'multiclassprecision': 0.9437916, 'val_multiclassaccuracy': 0.940125, 'val_multiclass\n",
      "Train Processing: :   0%|▎                                                                                                                          | 1/375 [00:00<01:00,  6.17it/s]"
     ]
    },
    {
     "name": "stdout",
     "output_type": "stream",
     "text": [
      "Epoch 11/20\n",
      "\u001b[36m(ActorPYUFedGen pid=596361)\u001b[0m {'train-loss': 2.2059271335601807, 'train_multiclassaccuracy': tensor(0.9450), 'train_multiclassprecision': tensor(0.9450), 'val_eval_multiclassaccuracy': tensor(0.9280), 'val_eval_multiclassprecision': tensor(0.9280)}\u001b[32m [repeated 2x across cluster]\u001b[0m\n"
     ]
    },
    {
     "name": "stderr",
     "output_type": "stream",
     "text": [
      "Train Processing: : 100%|▉| 374/375 [00:35<00:00, 10.61it/s, {'multiclassaccuracy': 0.94498956, 'multiclassprecision': 0.94498956, 'val_multiclassaccuracy': 0.94025, 'val_multiclas\n",
      "Train Processing: :   0%|▎                                                                                                                          | 1/375 [00:00<01:04,  5.84it/s]"
     ]
    },
    {
     "name": "stdout",
     "output_type": "stream",
     "text": [
      "Epoch 12/20\n",
      "\u001b[36m(ActorPYUFedGen pid=596361)\u001b[0m {'train-loss': 2.115673065185547, 'train_multiclassaccuracy': tensor(0.9463), 'train_multiclassprecision': tensor(0.9463), 'val_eval_multiclassaccuracy': tensor(0.9280), 'val_eval_multiclassprecision': tensor(0.9280)}\u001b[32m [repeated 2x across cluster]\u001b[0m\n"
     ]
    },
    {
     "name": "stderr",
     "output_type": "stream",
     "text": [
      "Train Processing: : 100%|▉| 374/375 [00:34<00:00, 10.94it/s, {'multiclassaccuracy': 0.9458333, 'multiclassprecision': 0.9458333, 'val_multiclassaccuracy': 0.9413125, 'val_multiclas\n",
      "Train Processing: :   0%|▎                                                                                                                          | 1/375 [00:00<00:58,  6.36it/s]"
     ]
    },
    {
     "name": "stdout",
     "output_type": "stream",
     "text": [
      "Epoch 13/20\n",
      "\u001b[36m(ActorPYUFedGen pid=596361)\u001b[0m {'train-loss': 1.943589448928833, 'train_multiclassaccuracy': tensor(0.9469), 'train_multiclassprecision': tensor(0.9469), 'val_eval_multiclassaccuracy': tensor(0.9300), 'val_eval_multiclassprecision': tensor(0.9300)}\u001b[32m [repeated 2x across cluster]\u001b[0m\n"
     ]
    },
    {
     "name": "stderr",
     "output_type": "stream",
     "text": [
      "Train Processing: : 100%|▉| 374/375 [00:35<00:00, 10.45it/s, {'multiclassaccuracy': 0.9465208, 'multiclassprecision': 0.9465208, 'val_multiclassaccuracy': 0.94306254, 'val_multicla\n",
      "Train Processing: :   0%|▎                                                                                                                          | 1/375 [00:00<01:04,  5.84it/s]"
     ]
    },
    {
     "name": "stdout",
     "output_type": "stream",
     "text": [
      "Epoch 14/20\n",
      "\u001b[36m(ActorPYUFedGen pid=596361)\u001b[0m {'train-loss': 2.120236396789551, 'train_multiclassaccuracy': tensor(0.9481), 'train_multiclassprecision': tensor(0.9481), 'val_eval_multiclassaccuracy': tensor(0.9330), 'val_eval_multiclassprecision': tensor(0.9330)}\u001b[32m [repeated 2x across cluster]\u001b[0m\n"
     ]
    },
    {
     "name": "stderr",
     "output_type": "stream",
     "text": [
      "Train Processing: : 100%|▉| 374/375 [00:33<00:00, 11.03it/s, {'multiclassaccuracy': 0.9479271, 'multiclassprecision': 0.9479271, 'val_multiclassaccuracy': 0.9443125, 'val_multiclas\n",
      "Train Processing: :   0%|▎                                                                                                                          | 1/375 [00:00<00:57,  6.49it/s]"
     ]
    },
    {
     "name": "stdout",
     "output_type": "stream",
     "text": [
      "Epoch 15/20\n",
      "\u001b[36m(ActorPYUFedGen pid=596361)\u001b[0m {'train-loss': 1.9986705780029297, 'train_multiclassaccuracy': tensor(0.9499), 'train_multiclassprecision': tensor(0.9499), 'val_eval_multiclassaccuracy': tensor(0.9340), 'val_eval_multiclassprecision': tensor(0.9340)}\u001b[32m [repeated 2x across cluster]\u001b[0m\n"
     ]
    },
    {
     "name": "stderr",
     "output_type": "stream",
     "text": [
      "Train Processing: : 100%|▉| 374/375 [00:32<00:00, 11.39it/s, {'multiclassaccuracy': 0.94815624, 'multiclassprecision': 0.94815624, 'val_multiclassaccuracy': 0.94449997, 'val_multic\n",
      "Train Processing: :   0%|▎                                                                                                                          | 1/375 [00:00<01:00,  6.19it/s]"
     ]
    },
    {
     "name": "stdout",
     "output_type": "stream",
     "text": [
      "Epoch 16/20\n",
      "\u001b[36m(ActorPYUFedGen pid=596361)\u001b[0m {'train-loss': 1.9143987894058228, 'train_multiclassaccuracy': tensor(0.9501), 'train_multiclassprecision': tensor(0.9501), 'val_eval_multiclassaccuracy': tensor(0.9335), 'val_eval_multiclassprecision': tensor(0.9335)}\u001b[32m [repeated 2x across cluster]\u001b[0m\n"
     ]
    },
    {
     "name": "stderr",
     "output_type": "stream",
     "text": [
      "Train Processing: : 100%|▉| 374/375 [00:33<00:00, 11.31it/s, {'multiclassaccuracy': 0.94853127, 'multiclassprecision': 0.94853127, 'val_multiclassaccuracy': 0.945125, 'val_multicla\n",
      "Train Processing: :   0%|▎                                                                                                                          | 1/375 [00:00<00:56,  6.59it/s]"
     ]
    },
    {
     "name": "stdout",
     "output_type": "stream",
     "text": [
      "Epoch 17/20\n",
      "\u001b[36m(ActorPYUFedGen pid=596361)\u001b[0m {'train-loss': 1.7454423904418945, 'train_multiclassaccuracy': tensor(0.9503), 'train_multiclassprecision': tensor(0.9503), 'val_eval_multiclassaccuracy': tensor(0.9340), 'val_eval_multiclassprecision': tensor(0.9340)}\u001b[32m [repeated 2x across cluster]\u001b[0m\n"
     ]
    },
    {
     "name": "stderr",
     "output_type": "stream",
     "text": [
      "Train Processing: : 100%|▉| 374/375 [00:32<00:00, 11.34it/s, {'multiclassaccuracy': 0.94883335, 'multiclassprecision': 0.94883335, 'val_multiclassaccuracy': 0.94568753, 'val_multic\n",
      "Train Processing: :   0%|▎                                                                                                                          | 1/375 [00:00<00:59,  6.32it/s]"
     ]
    },
    {
     "name": "stdout",
     "output_type": "stream",
     "text": [
      "Epoch 18/20\n",
      "\u001b[36m(ActorPYUFedGen pid=596361)\u001b[0m {'train-loss': 1.7196615934371948, 'train_multiclassaccuracy': tensor(0.9505), 'train_multiclassprecision': tensor(0.9505), 'val_eval_multiclassaccuracy': tensor(0.9350), 'val_eval_multiclassprecision': tensor(0.9350)}\u001b[32m [repeated 2x across cluster]\u001b[0m\n"
     ]
    },
    {
     "name": "stderr",
     "output_type": "stream",
     "text": [
      "Train Processing: : 100%|▉| 374/375 [00:33<00:00, 11.32it/s, {'multiclassaccuracy': 0.94934374, 'multiclassprecision': 0.94934374, 'val_multiclassaccuracy': 0.94568753, 'val_multic\n",
      "Train Processing: :   0%|▎                                                                                                                          | 1/375 [00:00<00:58,  6.35it/s]"
     ]
    },
    {
     "name": "stdout",
     "output_type": "stream",
     "text": [
      "Epoch 19/20\n",
      "\u001b[36m(ActorPYUFedGen pid=596361)\u001b[0m {'train-loss': 1.5121980905532837, 'train_multiclassaccuracy': tensor(0.9510), 'train_multiclassprecision': tensor(0.9510), 'val_eval_multiclassaccuracy': tensor(0.9340), 'val_eval_multiclassprecision': tensor(0.9340)}\u001b[32m [repeated 2x across cluster]\u001b[0m\n"
     ]
    },
    {
     "name": "stderr",
     "output_type": "stream",
     "text": [
      "Train Processing: : 100%|▉| 374/375 [00:33<00:00, 11.19it/s, {'multiclassaccuracy': 0.94985414, 'multiclassprecision': 0.94985414, 'val_multiclassaccuracy': 0.9450625, 'val_multicl\n"
     ]
    },
    {
     "name": "stdout",
     "output_type": "stream",
     "text": [
      "\u001b[36m(ActorPYUFedGen pid=596361)\u001b[0m {'train-loss': 1.4355396032333374, 'train_multiclassaccuracy': tensor(0.9516), 'train_multiclassprecision': tensor(0.9516), 'val_eval_multiclassaccuracy': tensor(0.9330), 'val_eval_multiclassprecision': tensor(0.9330)}\u001b[32m [repeated 2x across cluster]\u001b[0m\n"
     ]
    },
    {
     "name": "stderr",
     "output_type": "stream",
     "text": [
      "Train Processing: :   0%|▎                                                                                                                          | 1/375 [00:00<00:58,  6.34it/s]"
     ]
    },
    {
     "name": "stdout",
     "output_type": "stream",
     "text": [
      "Epoch 20/20\n"
     ]
    },
    {
     "name": "stderr",
     "output_type": "stream",
     "text": [
      "Train Processing: : 100%|▉| 374/375 [00:34<00:00, 10.99it/s, {'multiclassaccuracy': 0.94983333, 'multiclassprecision': 0.94983333, 'val_multiclassaccuracy': 0.9460625, 'val_multicl\n"
     ]
    }
   ],
   "source": [
    "from secretflow_fl.security.aggregation.stateful_fedgen_aggregator import (\n",
    "    StatefulFedGenAggregator,\n",
    ")\n",
    "\n",
    "net = ConvNet(diversity_loss, 20)\n",
    "\n",
    "model_def = TorchModel(\n",
    "    model_fn=ConvNet,\n",
    "    loss_fn=loss_fn,\n",
    "    optim_fn=optim_fn,\n",
    "    metrics=[\n",
    "        metric_wrapper(Accuracy, task=\"multiclass\", num_classes=10, average='micro'),\n",
    "        metric_wrapper(Precision, task=\"multiclass\", num_classes=10, average='micro'),\n",
    "    ],\n",
    "    kl_div_loss=kl_div_loss,\n",
    "    num_classes=num_classes,\n",
    ")\n",
    "\n",
    "server_actor = FedGenActor(device=charlie, generator=generator)\n",
    "device_list = [alice, bob]\n",
    "aggregator = StatefulFedGenAggregator(charlie, [alice, bob], server_actor)\n",
    "# spcify params\n",
    "fl_model = FLModel(\n",
    "    server=charlie,\n",
    "    device_list=device_list,\n",
    "    model=model_def,\n",
    "    strategy=\"fed_gen\",  # fl strategy\n",
    "    backend=\"torch\",  # backend support ['tensorflow', 'torch']\n",
    "    aggregator=aggregator,\n",
    "    generator=generator,\n",
    ")\n",
    "history = fl_model.fit(\n",
    "    train_data,\n",
    "    train_label,\n",
    "    validation_data=(test_data, test_label),\n",
    "    epochs=20,\n",
    "    batch_size=32,\n",
    "    aggregate_freq=1,\n",
    ")"
   ]
  },
  {
   "cell_type": "markdown",
   "id": "285ef2c4",
   "metadata": {},
   "source": [
    "## 绘制结果"
   ]
  },
  {
   "cell_type": "code",
   "execution_count": 11,
   "id": "f31086b7-2159-4e21-b8a3-75a3a79efae8",
   "metadata": {},
   "outputs": [
    {
     "name": "stdout",
     "output_type": "stream",
     "text": [
      "\u001b[36m(ActorPYUFedGen pid=596361)\u001b[0m {'train-loss': 1.4233253002166748, 'train_multiclassaccuracy': tensor(0.9514), 'train_multiclassprecision': tensor(0.9514), 'val_eval_multiclassaccuracy': tensor(0.9340), 'val_eval_multiclassprecision': tensor(0.9340)}\n"
     ]
    },
    {
     "data": {
      "image/png": "[encoded data removed]",
      "text/plain": [
       "<Figure size 640x480 with 1 Axes>"
      ]
     },
     "metadata": {},
     "output_type": "display_data"
    }
   ],
   "source": [
    "from matplotlib import pyplot as plt\n",
    "\n",
    "# Draw accuracy values for training & validation\n",
    "plt.plot(history[\"global_history\"]['multiclassaccuracy'])\n",
    "plt.plot(history[\"global_history\"]['val_multiclassaccuracy'])\n",
    "plt.title('FLModel accuracy')\n",
    "plt.ylabel('Accuracy')\n",
    "plt.xlabel('Epoch')\n",
    "plt.legend(['Train', 'Valid'], loc='upper left')\n",
    "plt.show()"
   ]
  },
  {
   "cell_type": "code",
   "execution_count": null,
   "id": "4678cd74-f29f-4f68-b459-771433c373e6",
   "metadata": {},
   "outputs": [],
   "source": []
  }
 ],
 "metadata": {
  "kernelspec": {
   "display_name": "Python 3 (ipykernel)",
   "language": "python",
   "name": "python3"
  },
  "language_info": {
   "codemirror_mode": {
    "name": "ipython",
    "version": 3
   },
   "file_extension": ".py",
   "mimetype": "text/x-python",
   "name": "python",
   "nbconvert_exporter": "python",
   "pygments_lexer": "ipython3",
   "version": "3.10.14"
  }
 },
 "nbformat": 4,
 "nbformat_minor": 5
}
