{
 "cells": [
  {
   "attachments": {},
   "cell_type": "markdown",
   "metadata": {},
   "source": [
    "# Weight Of Evidence encoding"
   ]
  },
  {
   "attachments": {},
   "cell_type": "markdown",
   "metadata": {},
   "source": [
    ">The following codes are demos only. It's **NOT for production** due to system security concerns, please **DO NOT** use it directly in production."
   ]
  },
  {
   "attachments": {},
   "cell_type": "markdown",
   "metadata": {},
   "source": [
    "It is recommended to use [jupyter](https://jupyter.org/) to run this tutorial."
   ]
  },
  {
   "attachments": {},
   "cell_type": "markdown",
   "metadata": {},
   "source": [
    "Binning create buckets of independent variables based on ranking methods. Binning helps us converting continuous variables into categorical ones.\n",
    "\n",
    "WOE binning Implements a binning of numeric variables and factors with respect to a dichotomous target variable.\n",
    "\n",
    "```\n",
    "bin_total = bin_positives + bin_negatives\n",
    "total_labels = total_positives + total_negatives\n",
    "bin_WOE = log((bin_positives / total_positives) / (bin_negatives / total_negatives))\n",
    "bin_iv = ((bin_positives / total_positives) - (bin_negatives / total_negatives)) * bin_woe\n",
    "```\n"
   ]
  },
  {
   "attachments": {},
   "cell_type": "markdown",
   "metadata": {},
   "source": [
    "Currently we provide WOE encoding for vertically partitioned datasets.\n",
    "\n",
    "Let's first load a sample dataset."
   ]
  },
  {
   "cell_type": "code",
   "execution_count": 1,
   "metadata": {},
   "outputs": [],
   "source": [
    "import pandas as pd\n",
    "import secretflow as sf\n",
    "from secretflow.data.vertical import VDataFrame\n",
    "from secretflow.utils.simulation.datasets import load_linear"
   ]
  },
  {
   "cell_type": "code",
   "execution_count": 2,
   "metadata": {},
   "outputs": [
    {
     "name": "stderr",
     "output_type": "stream",
     "text": [
      "/root/miniconda/envs/secretflow1.11/lib/python3.10/site-packages/tqdm/auto.py:21: TqdmWarning: IProgress not found. Please update jupyter and ipywidgets. See https://ipywidgets.readthedocs.io/en/stable/user_install.html\n",
      "  from .autonotebook import tqdm as notebook_tqdm\n",
      "2025-03-04 11:26:09,636\tINFO util.py:154 -- Missing packages: ['ipywidgets']. Run `pip install -U ipywidgets`, then restart the notebook server for rich notebook output.\n",
      "2025-03-04 11:26:09,945\tINFO util.py:154 -- Missing packages: ['ipywidgets']. Run `pip install -U ipywidgets`, then restart the notebook server for rich notebook output.\n",
      "/root/miniconda/envs/secretflow1.11/lib/python3.10/subprocess.py:1796: RuntimeWarning: os.fork() was called. os.fork() is incompatible with multithreaded code, and JAX is multithreaded, so this will likely lead to a deadlock.\n",
      "  self.pid = _posixsubprocess.fork_exec(\n",
      "2025-03-04 11:26:11,965\tINFO worker.py:1724 -- Started a local Ray instance.\n"
     ]
    },
    {
     "name": "stdout",
     "output_type": "stream",
     "text": [
      "\u001b[36m(SPURuntime pid=275716)\u001b[0m 2025-03-04 11:26:16.578 [warning] [openssl_factory.cc:OpensslDrbg:83] Yacl has been configured to use Yacl's entropy source, but unable to find one. Fallback to use openssl's default entropy srouce\n",
      "\u001b[36m(SPURuntime pid=275716)\u001b[0m 2025-03-04 11:26:16.580 [warning] [openssl_factory.cc:OpensslDrbg:83] Yacl has been configured to use Yacl's entropy source, but unable to find one. Fallback to use openssl's default entropy srouce\n"
     ]
    },
    {
     "name": "stderr",
     "output_type": "stream",
     "text": [
      "\u001b[36m(pyu_fn pid=274139)\u001b[0m 2025-03-04 11:26:20,782,782 INFO [xla_bridge.py:backends:863] Unable to initialize backend 'cuda': \n",
      "\u001b[36m(pyu_fn pid=274139)\u001b[0m 2025-03-04 11:26:20,782,782 INFO [xla_bridge.py:backends:863] Unable to initialize backend 'rocm': module 'jaxlib.xla_extension' has no attribute 'GpuAllocatorConfig'\n",
      "\u001b[36m(pyu_fn pid=274139)\u001b[0m 2025-03-04 11:26:20,783,783 INFO [xla_bridge.py:backends:863] Unable to initialize backend 'tpu': INTERNAL: Failed to open libtpu.so: libtpu.so: cannot open shared object file: No such file or directory\n"
     ]
    },
    {
     "name": "stdout",
     "output_type": "stream",
     "text": [
      "\u001b[36m(pyu_fn pid=274139)\u001b[0m [2025-03-04 11:26:20.853] [info] [thread_pool.cc:30] Create a fixed thread pool with size 31\n"
     ]
    }
   ],
   "source": [
    "sf.init(['alice', 'bob'], address='local')\n",
    "alice, bob = sf.PYU('alice'), sf.PYU('bob')\n",
    "# similarly for woe in heu\n",
    "spu = sf.SPU(sf.utils.testing.cluster_def(['alice', 'bob']))"
   ]
  },
  {
   "cell_type": "code",
   "execution_count": 3,
   "metadata": {},
   "outputs": [],
   "source": [
    "parts = {\n",
    "    bob: (1, 11),\n",
    "    alice: (11, 22),\n",
    "}\n",
    "vdf = load_linear(parts=parts)"
   ]
  },
  {
   "cell_type": "code",
   "execution_count": 4,
   "metadata": {},
   "outputs": [],
   "source": [
    "label_data = vdf['y']\n",
    "y = sf.reveal(label_data.partitions[alice].data).values"
   ]
  },
  {
   "attachments": {},
   "cell_type": "markdown",
   "metadata": {},
   "source": [
    "Now, we are ready to perform WOE binning and substitution."
   ]
  },
  {
   "cell_type": "code",
   "execution_count": null,
   "metadata": {},
   "outputs": [
    {
     "name": "stdout",
     "output_type": "stream",
     "text": [
      "ObjectRef(b58f0ee91e0a9599ffffffffffffffffffffffff0100000001000000)\n",
      "ObjectRef(a8485d936ac2e7ccffffffffffffffffffffffff0100000001000000)\n"
     ]
    }
   ],
   "source": [
    "from secretflow.preprocessing.binning.vert_woe_binning import VertWoeBinning\n",
    "from secretflow.preprocessing.binning.vert_bin_substitution import VertBinSubstitution\n",
    "\n",
    "\n",
    "from secretflow.data.vertical.dataframe import VDataFrame\n",
    "from secretflow.component.core import (\n",
    "    CompVDataFrame,\n",
    "    VTableField,\n",
    "    VTableFieldKind,\n",
    "    VTableFieldType,\n",
    "    VTableSchema,\n",
    ")\n",
    "\n",
    "\n",
    "def _build_schema(df: VDataFrame, labels: set = {\"y\"}) -> dict[str, VTableSchema]:\n",
    "    res = {}\n",
    "    for pyu, p in df.partitions.items():\n",
    "        fields = []\n",
    "        for name, dtype in p.dtypes.items():\n",
    "            dt = VTableFieldType.from_dtype(dtype)\n",
    "            kind = VTableFieldKind.LABEL if name in labels else VTableFieldKind.FEATURE\n",
    "            fields.append(VTableField(name, dt, kind))\n",
    "\n",
    "        res[pyu.party] = VTableSchema(fields)\n",
    "\n",
    "    return res\n",
    "\n",
    "\n",
    "vdf = CompVDataFrame.from_pandas(vdf, schemas=_build_schema(vdf))\n",
    "\n",
    "binning = VertWoeBinning(spu)\n",
    "bin_rules = binning.binning(\n",
    "    vdf,\n",
    "    binning_method=\"chimerge\",\n",
    "    bin_num=4,\n",
    "    bin_names={alice: ['x14'], bob: [\"x5\", \"x7\"]},\n",
    "    label_name=\"y\",\n",
    ")\n",
    "\n",
    "woe_sub = VertBinSubstitution()\n",
    "vdf = woe_sub.substitution(vdf, bin_rules)\n",
    "\n",
    "# this is for demo only, be careful with reveal\n",
    "print(sf.reveal(vdf.partitions[alice].data))\n",
    "print(sf.reveal(vdf.partitions[bob].data))"
   ]
  },
  {
   "attachments": {},
   "cell_type": "markdown",
   "metadata": {},
   "source": [
    "Sometimes we may need the iv values. Releasing bin ivs will potentially leak label information according to issue https://github.com/secretflow/secretflow/issues/565.\n",
    "Currently, we choose to save bin iv values in label holders device. It is up to label holder's choice to\n",
    "\n",
    "1. share no iv information\n",
    "2. share some chosen iv information\n",
    "\n",
    "We will demonstrate how to share the feature ivs."
   ]
  },
  {
   "attachments": {},
   "cell_type": "markdown",
   "metadata": {},
   "source": [
    "Recall that the woe_rules is a dictionary `{PYU: PYUObject}`, where each `PYUObject` itself is a dictionary of the following type:\n",
    "```\n",
    "{\n",
    "    \"variables\":[\n",
    "        {\n",
    "            \"name\": str, # feature name\n",
    "            \"type\": str, # \"string\" or \"numeric\", if feature is discrete or continuous\n",
    "            \"categories\": list[str], # categories for discrete feature\n",
    "            \"split_points\": list[float], # left-open right-close split points\n",
    "            \"total_counts\": list[int], # total samples count in each bins.\n",
    "            \"else_counts\": int, # np.nan samples count\n",
    "            \"filling_values\": list[float], # woe values for each bins.\n",
    "            \"else_filling_value\": float, # woe value for np.nan samples.\n",
    "        },\n",
    "        # ... others feature\n",
    "    ],\n",
    "    # label holder's PYUObject only\n",
    "    # warning: giving bin_ivs to other party will leak positive samples in each bin.\n",
    "    # it is up to label holder's will to give feature iv or bin ivs or all info to workers.\n",
    "    # for more information, look at: https://github.com/secretflow/secretflow/issues/565\n",
    "\n",
    "    # in the following comment, by safe we mean label distribution info is not leaked.\n",
    "    \"feature_iv_info\" :[\n",
    "        {\n",
    "            \"name\": str, #feature name\n",
    "            \"ivs\": list[float], #iv values for each bins, not safe to share with workers in any case.\n",
    "            \"else_iv\": float, #iv for nan values, may share to with workers\n",
    "            \"feature_iv\": float, #sum of bin_ivs, safe to share with workers when bin num > 2.\n",
    "        }\n",
    "    ]\n",
    "}\n",
    "```"
   ]
  },
  {
   "cell_type": "code",
   "execution_count": 6,
   "metadata": {},
   "outputs": [],
   "source": [
    "# alice is label holder\n",
    "dict_pyu_object = bin_rules[alice]\n",
    "\n",
    "\n",
    "def extract_name_and_feature_iv(list_of_feature_iv_info):\n",
    "    return [(d[\"name\"], d[\"feature_iv\"]) for d in list_of_feature_iv_info]\n",
    "\n",
    "\n",
    "feature_ivs = alice(\n",
    "    lambda dict_pyu_object: extract_name_and_feature_iv(\n",
    "        dict_pyu_object[\"feature_iv_info\"]\n",
    "    )\n",
    ")(dict_pyu_object)"
   ]
  },
  {
   "cell_type": "code",
   "execution_count": 7,
   "metadata": {},
   "outputs": [
    {
     "data": {
      "text/plain": [
       "[('x14', 0.43219177635839423), ('x5', 0.37848298069087766), ('x7', 0)]"
      ]
     },
     "execution_count": 7,
     "metadata": {},
     "output_type": "execute_result"
    }
   ],
   "source": [
    "# we can give the feature_ivs to bob\n",
    "feature_ivs.to(bob)\n",
    "# and/or we can reveal it to see it\n",
    "sf.reveal(feature_ivs)"
   ]
  },
  {
   "cell_type": "code",
   "execution_count": 8,
   "metadata": {},
   "outputs": [],
   "source": [
    "feature_iv_info = sf.reveal(feature_ivs)\n",
    "df = pd.DataFrame.from_records(feature_iv_info, columns=['feature', 'iv'])"
   ]
  },
  {
   "attachments": {},
   "cell_type": "markdown",
   "metadata": {},
   "source": [
    "How to interpret feature iv?\n",
    "\n",
    "- Less than 0.02 -> Not useful for prediction\n",
    "- 0.02 to 0.1 -> Weak predictive Power\n",
    "- 0.1 to 0.3 -> Medium predictive Power\n",
    "- 0.3 to 0.5 -> Strong predictive Power\n",
    "- >0.5\t-> Suspicious Predictive Power\n",
    "\n",
    "let's select top 2 feature iv"
   ]
  },
  {
   "cell_type": "code",
   "execution_count": 9,
   "metadata": {},
   "outputs": [
    {
     "name": "stdout",
     "output_type": "stream",
     "text": [
      "  feature        iv\n",
      "0     x14  0.432192\n",
      "1      x5  0.378483\n"
     ]
    }
   ],
   "source": [
    "print(df.sort_values('iv', ascending=False).head(2))"
   ]
  },
  {
   "attachments": {},
   "cell_type": "markdown",
   "metadata": {},
   "source": [
    "Congradulations!\n",
    "In this tutorial we have learnt how to\n",
    "\n",
    "1. do WOE encoding\n",
    "2. share some iv information to other parties\n",
    "3. use feature iv for feature selection\n"
   ]
  },
  {
   "attachments": {},
   "cell_type": "markdown",
   "metadata": {},
   "source": []
  },
  {
   "cell_type": "code",
   "execution_count": 10,
   "metadata": {},
   "outputs": [],
   "source": [
    "sf.shutdown()"
   ]
  }
 ],
 "metadata": {
  "kernelspec": {
   "display_name": "Python [conda env:secretflow1.11]",
   "language": "python",
   "name": "conda-env-secretflow1.11-py"
  },
  "orig_nbformat": 4
 },
 "nbformat": 4,
 "nbformat_minor": 2
}
